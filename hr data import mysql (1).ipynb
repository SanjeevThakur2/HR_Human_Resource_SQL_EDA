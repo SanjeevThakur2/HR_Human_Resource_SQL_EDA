{
 "cells": [
  {
   "cell_type": "code",
   "execution_count": null,
   "id": "e206eec2",
   "metadata": {},
   "outputs": [],
   "source": [
    "import numpy as np, pandas as pd"
   ]
  },
  {
   "cell_type": "code",
   "execution_count": null,
   "id": "e9e5aee7",
   "metadata": {},
   "outputs": [],
   "source": [
    "import mysql.connector\n",
    "from mysql.connector import Error\n",
    "import pandas as pd\n",
    "import numpy as np\n",
    "\n",
    "def convert_to_float(value):\n",
    "    # Handle None values\n",
    "    if value is None:\n",
    "        return None\n",
    "\n",
    "    # Convert other values to float\n",
    "    return float(value)\n",
    "\n",
    "def dataframetosql(dataframe):\n",
    "    conn = None\n",
    "\n",
    "    try:\n",
    "        conn = mysql.connector.connect(host=\"localhost\", user=\"root\", password=\"Nikhil@1911\", database=\"HR_SCHEMA\", charset=\"utf8\")\n",
    "        cur = conn.cursor()\n",
    "\n",
    "        cur.execute(\"DELETE FROM project_hr\")\n",
    "        conn.commit()\n",
    "\n",
    "        # Replace NaN with None (Python's None)\n",
    "        dataframe.replace({np.nan: None}, inplace=True)\n",
    "\n",
    "        for _, rs in dataframe.iterrows():\n",
    "            employee_id = int(rs[0])\n",
    "            department = str(rs[1])\n",
    "            region = str(rs[2])\n",
    "            education = str(rs[3])\n",
    "            gender = str(rs[4])\n",
    "            recruitment_channel = str(rs[5])\n",
    "            no_of_trainings = int(rs[6])\n",
    "            age = int(rs[7])\n",
    "            previous_year_rating = str(rs[8]) \n",
    "            length_of_service = int(rs[9])\n",
    "            KPIs_met_more_than_80 = int(rs[10])\n",
    "            awards_won = int(rs[11])\n",
    "            avg_training_score = int(rs[12])\n",
    "\n",
    "            query = \"INSERT INTO project_hr (employee_id, department, region, education, gender, recruitment_channel, no_of_trainings, age, previous_year_rating, length_of_service, KPIs_met_more_than_80, awards_won, avg_training_score) VALUES (%s, %s, %s, %s, %s, %s, %s, %s, %s, %s, %s, %s, %s)\"\n",
    "            values = (employee_id, department, region, education, gender, recruitment_channel, no_of_trainings, age, previous_year_rating, length_of_service, KPIs_met_more_than_80, awards_won, avg_training_score)\n",
    "            cur.execute(query, values)\n",
    "            conn.commit()\n",
    "\n",
    "        cur.close()\n",
    "\n",
    "    except Error as e:\n",
    "        print(\"Error in MySQL connection:\", e)\n",
    "\n",
    "    finally:\n",
    "        if conn and conn.is_connected():\n",
    "            conn.close()\n",
    "\n",
    "# Main program\n",
    "dataframe = pd.read_csv(\"uncleaned_employees.csv\")\n",
    "\n",
    "print(dataframe)\n",
    "dataframetosql(dataframe)\n",
    "print(\"\\nDataframe to MySQL Data transferred successfully\")"
   ]
  }
 ],
 "metadata": {
  "kernelspec": {
   "display_name": "Python 3 (ipykernel)",
   "language": "python",
   "name": "python3"
  },
  "language_info": {
   "codemirror_mode": {
    "name": "ipython",
    "version": 3
   },
   "file_extension": ".py",
   "mimetype": "text/x-python",
   "name": "python",
   "nbconvert_exporter": "python",
   "pygments_lexer": "ipython3",
   "version": "3.9.13"
  }
 },
 "nbformat": 4,
 "nbformat_minor": 5
}
